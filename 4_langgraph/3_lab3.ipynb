{
 "cells": [
  {
   "cell_type": "markdown",
   "metadata": {},
   "source": [
    "## Welcome to Week 4, Day 4\n",
    "\n",
    "This is the start of an AWESOME project! Really simple and very effective."
   ]
  },
  {
   "cell_type": "markdown",
   "metadata": {},
   "source": [
    "### First - a heads up for Windows PC users\n",
    "\n",
    "While executing this notebook, you might hit a problem with the Playwright browser raising a NotImplementedError.\n",
    "\n",
    "This should work when we move to python modules, but it can cause problems in Windows in a notebook.\n",
    "\n",
    "If you it this error and would like to run the notebook, you need to make a small change which seems quite hacky!\n",
    "\n",
    "1. Right click in `.venv` in the File Explorer on the left and select \"Find in folder\"\n",
    "2. Search for `asyncio.set_event_loop_policy(WindowsSelectorEventLoopPolicy())`  \n",
    "3. That code should be found in a line of code in a file called `kernelapp.py`\n",
    "4. Comment out the entire else clause that this line is a part of - see the fragment below\n",
    "5. Restart the kernel by pressing the \"Restart\" button above\n",
    "\n",
    "```python\n",
    "        if sys.platform.startswith(\"win\") and sys.version_info >= (3, 8):\n",
    "            import asyncio\n",
    " \n",
    "            try:\n",
    "                from asyncio import WindowsProactorEventLoopPolicy, WindowsSelectorEventLoopPolicy\n",
    "            except ImportError:\n",
    "                pass\n",
    "                # not affected\n",
    "           # else:\n",
    "            #    if type(asyncio.get_event_loop_policy()) is WindowsProactorEventLoopPolicy:\n",
    "                    # WindowsProactorEventLoopPolicy is not compatible with tornado 6\n",
    "                    # fallback to the pre-3.8 default of Selector\n",
    "                    # asyncio.set_event_loop_policy(WindowsSelectorEventLoopPolicy())\n",
    "```\n",
    "\n",
    "Thank you to student Nicolas for finding this, and to Kalyan, Yaki, Zibin and Bhaskar for confirming that this worked for them!\n",
    "\n",
    "As an alternative, you can just move to a Python module (which we do anyway in Day 5)"
   ]
  },
  {
   "cell_type": "code",
   "execution_count": 1,
   "metadata": {},
   "outputs": [],
   "source": [
    "from typing import Annotated\n",
    "from typing_extensions import TypedDict\n",
    "from langgraph.graph import StateGraph, START\n",
    "from langgraph.graph.message import add_messages\n",
    "from dotenv import load_dotenv\n",
    "from IPython.display import Image, display\n",
    "import gradio as gr\n",
    "from langgraph.prebuilt import ToolNode, tools_condition\n",
    "import requests\n",
    "import os\n",
    "from langchain.agents import Tool\n",
    "\n",
    "from langchain_openai import ChatOpenAI\n",
    "from langgraph.checkpoint.memory import MemorySaver"
   ]
  },
  {
   "cell_type": "code",
   "execution_count": 2,
   "metadata": {},
   "outputs": [
    {
     "data": {
      "text/plain": [
       "True"
      ]
     },
     "execution_count": 2,
     "metadata": {},
     "output_type": "execute_result"
    }
   ],
   "source": [
    "load_dotenv(override=True)"
   ]
  },
  {
   "cell_type": "markdown",
   "metadata": {},
   "source": [
    "### Asynchronous LangGraph\n",
    "\n",
    "To run a tool:  \n",
    "Sync: `tool.run(inputs)`  \n",
    "Async: `await tool.arun(inputs)`\n",
    "\n",
    "To invoke the graph:  \n",
    "Sync: `graph.invoke(state)`  \n",
    "Async: `await graph.ainvoke(state)`"
   ]
  },
  {
   "cell_type": "code",
   "execution_count": 3,
   "metadata": {},
   "outputs": [],
   "source": [
    "class State(TypedDict):\n",
    "    \n",
    "    messages: Annotated[list, add_messages]\n",
    "\n",
    "\n",
    "graph_builder = StateGraph(State)"
   ]
  },
  {
   "cell_type": "code",
   "execution_count": 4,
   "metadata": {},
   "outputs": [],
   "source": [
    "pushover_token = os.getenv(\"PUSHOVER_TOKEN\")\n",
    "pushover_user = os.getenv(\"PUSHOVER_USER\")\n",
    "pushover_url = \"https://api.pushover.net/1/messages.json\"\n",
    "\n",
    "def push(text: str):\n",
    "    \"\"\"Send a push notification to the user\"\"\"\n",
    "    requests.post(pushover_url, data = {\"token\": pushover_token, \"user\": pushover_user, \"message\": text})\n",
    "\n",
    "tool_push = Tool(\n",
    "        name=\"send_push_notification\",\n",
    "        func=push,\n",
    "        description=\"useful for when you want to send a push notification\"\n",
    "    )"
   ]
  },
  {
   "cell_type": "markdown",
   "metadata": {},
   "source": [
    "### Next: Install Playwright\n",
    "\n",
    "On Windows and MacOS:  \n",
    "`playwright install`\n",
    "\n",
    "On Linux:  \n",
    "`playwright install —with-reps chromium`"
   ]
  },
  {
   "cell_type": "markdown",
   "metadata": {},
   "source": [
    "### Introducing nest_asyncio\n",
    "\n",
    "Python async code only allows for one \"event loop\" processing aynchronous events.\n",
    "\n",
    "The `nest_asyncio` library patches this, and is used for special situations, if you need to run a nested event loop.\n",
    "\n"
   ]
  },
  {
   "cell_type": "code",
   "execution_count": 5,
   "metadata": {},
   "outputs": [],
   "source": [
    "import nest_asyncio\n",
    "nest_asyncio.apply()"
   ]
  },
  {
   "cell_type": "markdown",
   "metadata": {},
   "source": [
    "### The LangChain community\n",
    "\n",
    "One of the remarkable things about LangChain is the rich community around it.\n",
    "\n",
    "Check this out:\n"
   ]
  },
  {
   "cell_type": "code",
   "execution_count": 6,
   "metadata": {},
   "outputs": [],
   "source": [
    "from langchain_community.agent_toolkits import PlayWrightBrowserToolkit\n",
    "from langchain_community.tools.playwright.utils import create_async_playwright_browser\n",
    "\n",
    "# If you get a NotImplementedError here or later, see the Heads Up at the top of the notebook\n",
    "\n",
    "async_browser =  create_async_playwright_browser(headless=False)  # headful mode\n",
    "toolkit = PlayWrightBrowserToolkit.from_browser(async_browser=async_browser)\n",
    "tools = toolkit.get_tools()"
   ]
  },
  {
   "cell_type": "code",
   "execution_count": 7,
   "metadata": {},
   "outputs": [
    {
     "name": "stdout",
     "output_type": "stream",
     "text": [
      "click_element=async_browser=<Browser type=<BrowserType name=chromium executable_path=C:\\Users\\dlbr\\AppData\\Local\\ms-playwright\\chromium-1169\\chrome-win\\chrome.exe> version=136.0.7103.25>\n",
      "navigate_browser=async_browser=<Browser type=<BrowserType name=chromium executable_path=C:\\Users\\dlbr\\AppData\\Local\\ms-playwright\\chromium-1169\\chrome-win\\chrome.exe> version=136.0.7103.25>\n",
      "previous_webpage=async_browser=<Browser type=<BrowserType name=chromium executable_path=C:\\Users\\dlbr\\AppData\\Local\\ms-playwright\\chromium-1169\\chrome-win\\chrome.exe> version=136.0.7103.25>\n",
      "extract_text=async_browser=<Browser type=<BrowserType name=chromium executable_path=C:\\Users\\dlbr\\AppData\\Local\\ms-playwright\\chromium-1169\\chrome-win\\chrome.exe> version=136.0.7103.25>\n",
      "extract_hyperlinks=async_browser=<Browser type=<BrowserType name=chromium executable_path=C:\\Users\\dlbr\\AppData\\Local\\ms-playwright\\chromium-1169\\chrome-win\\chrome.exe> version=136.0.7103.25>\n",
      "get_elements=async_browser=<Browser type=<BrowserType name=chromium executable_path=C:\\Users\\dlbr\\AppData\\Local\\ms-playwright\\chromium-1169\\chrome-win\\chrome.exe> version=136.0.7103.25>\n",
      "current_webpage=async_browser=<Browser type=<BrowserType name=chromium executable_path=C:\\Users\\dlbr\\AppData\\Local\\ms-playwright\\chromium-1169\\chrome-win\\chrome.exe> version=136.0.7103.25>\n"
     ]
    }
   ],
   "source": [
    "for tool in tools:\n",
    "    print(f\"{tool.name}={tool}\")"
   ]
  },
  {
   "cell_type": "code",
   "execution_count": 8,
   "metadata": {},
   "outputs": [],
   "source": [
    "tool_dict = {tool.name:tool for tool in tools}\n",
    "\n",
    "navigate_tool = tool_dict.get(\"navigate_browser\")\n",
    "extract_text_tool = tool_dict.get(\"extract_text\")\n",
    "\n",
    "    \n",
    "await navigate_tool.arun({\"url\": \"https://www.cnn.com\"})\n",
    "text = await extract_text_tool.arun({})"
   ]
  },
  {
   "cell_type": "code",
   "execution_count": 9,
   "metadata": {},
   "outputs": [
    {
     "name": "stdout",
     "output_type": "stream",
     "text": [
      "Breaking News, Latest News and Videos | CNN CNN values your feedback\n",
      "1. How relevant is this ad to you? 2. Did you encounter any technical\n",
      "issues? No Video player was slow to load content Video content never\n",
      "loaded Ad froze or did not finish loading Video content did not start\n",
      "after ad Audio on ad was too loud Other issues Ad never loaded Ad\n",
      "prevented/slowed the page from loading Content moved around while ad\n",
      "loaded Ad was repetitive to ads I've seen previously Other issues\n",
      "Cancel Submit Thank You! Your effort and contribution in providing\n",
      "this feedback is much\n",
      "appreciated. Close Ad Feedback Close icon US World Politics Business\n",
      "Health Entertainment Style Travel Sports Science Climate Weather\n",
      "Ukraine-Russia War Israel-Hamas War Games More US World Politics\n",
      "Business Health Entertainment Style Travel Sports Science Climate\n",
      "Weather Ukraine-Russia War Israel-Hamas War Games Watch Listen Live TV\n",
      "Subscribe Sign in My Account Settings Newsletters Topics you follow\n",
      "Sign out Your CNN account Sign in to your CNN account Sign in My\n",
      "Account Settings Newsletters Topics you follow Sign out Your CNN\n",
      "account Sign in to your CNN account Live TV Listen Watch Edition US\n",
      "International Arabic Español Edition US International Arabic Español\n",
      "World Africa Americas Asia Australia China Europe India Middle East\n",
      "United Kingdom US Politics Trump Facts First CNN Polls 2025 Elections\n",
      "Business Tech Media Calculators Videos Markets Pre-markets After-Hours\n",
      "Fear & Greed Investing Markets Now Nightcap Health Life, But Better\n",
      "Fitness Food Sleep Mindfulness Relationships Entertainment Movies\n",
      "Television Celebrity Tech Innovate Foreseeable Future Mission: Ahead\n",
      "Work Transformed Innovative Cities Style Arts Design Fashion\n",
      "Architecture Luxury Beauty Video Travel Destinations Food & Drink Stay\n",
      "News Videos Sports Football Tennis Golf Motorsport US Sports Olympics\n",
      "Climbing Esports Hockey Science Space Life Unearthed Climate Solutions\n",
      "Weather Weather Video Climate Ukraine-Russia War Israel-Hamas War\n",
      "Features As Equals Call to Earth Freedom Project Impact Your World\n",
      "Inside Africa CNN Heroes Watch Live TV CNN Fast Shows A-Z CNN10 CNN\n",
      "Max CNN TV Schedules Listen CNN 5 Things Chasing Life with Dr. Sanjay\n",
      "Gupta The Assignment with Audie Cornish One Thing Tug of War CNN\n",
      "Political Briefing The Axe Files All There Is with Anderson Cooper All\n",
      "CNN Audio podcasts Games Daily Crossword Jumble Crossword Photo\n",
      "Shuffle Sudoblock Sudoku 5 Things Quiz About CNN Photos Investigations\n",
      "CNN Profiles CNN Leadership CNN Newsletters Work for CNN Follow CNN\n",
      "Iraq shopping mall fire Who are the Druze? Air India crash Super Bowl-\n",
      "winning linebacker dies aged 38 Influencer shower routines Disneyland\n",
      "David Allignon/ZUMA/Shutterstock Trump’s 50-day deadline bodes well\n",
      "for Putin, experts say Christian Torres/Anadolu/Getty Images/File ‘Not\n",
      "Trump’s dumping ground’: Outrage over arrival of foreign US deportees\n",
      "in tiny African nation Obtained by CNN ‘A piece of paper doesn’t make\n",
      "you human’: Growing up with undocumented parents in America Her whole\n",
      "life, Kimberly and her sisters imagined US Immigration and Customs\n",
      "Enforcement officers knocking on doors and pulling families out.\n",
      "Samuel Corum/Getty Images Nationwide protests begin against Trump’s\n",
      "immigration crackdown and health care cuts Protests and events against\n",
      "President Donald Trump’s controversial policies that include mass\n",
      "deportations and cuts to Medicaid and other safety nets for poor\n",
      "people have started Thursday at more than 1,600 locations around the\n",
      "country. Birthday letters to Epstein included one bearing Trump’s name\n",
      "Show all Davidoff Studios Photography/Archive Photos/Getty Images One\n",
      "of the notes for the disgraced financier’s 50th birthday bore the\n",
      "president’s name and a drawing of a naked woman, Wall Street Journal\n",
      "reports Live Updates Trump vows to sue WSJ and Rupert Murdoch in first\n",
      "reaction since report on Epstein birthday letters Video Here’s the\n",
      "message Wall Street Journal reports was included on birthday letter to\n",
      "Epstein 3:56 Trump diagnosed with chronic venous insufficiency\n",
      "following leg swelling Play Catch up on today's global news - Source:\n",
      "CNN Video Catch up on today’s global news Scott Kowalchyk/CBS CBS is\n",
      "ending ‘The Late Show with Stephen Colbert’ next year Ethan\n",
      "Miller/Getty Images Chris Martin never said it was easy. Just ask the\n",
      "two people he blasted into an internet mess Michael Perez/AP ‘My heart\n",
      "hurts’: Super Bowl-winning player dies after battle with ‘very rare\n",
      "form of cancer’ Ad Feedback More top stories Carl de Souza/AFP/Getty\n",
      "Images Mexico City unveils plan to tackle gentrification after mass\n",
      "protests Attorney General Bondi visits Alcatraz as Trump floats idea\n",
      "of reopening the former federal prison Israel says it ‘deeply regrets’\n",
      "strike on Gaza’s only Catholic church, calls for investigation Greek\n",
      "police charge five people in murder case of UC Berkeley professor,\n",
      "including his ex-wife Video Surgeon shows humanitarian crisis in\n",
      "Gaza’s hospitals 4:29 Scatec ASA Plagued by blackouts, this country is\n",
      "building a giant solar plant CNN What the brutal killing of a female\n",
      "police officer reveals about Kenya’s femicide crisis AFP/Getty Images\n",
      "China puts new restrictions on EV battery technology in latest move to\n",
      "consolidate dominance Ad Feedback Mateusz Slodkowski/SOPA\n",
      "Images/LightRocket/Getty Images ChatGPT can now ‘think’ and ‘act’ for\n",
      "you after a new update Jul 17, 2025 Alex Pantling/R&A/Getty Images\n",
      "Ordained monk tunes out the noise to soar into contention as McIlroy\n",
      "mania engulfs The Open Championship Jul 17, 2025 John\n",
      "Stillwell/PA/AP/Reuters Video Prince Harry recreates his mother’s\n",
      "historic landmine walk 0:39 Jul 17, 2025 Ad Feedback CNN Former Hamas\n",
      "hostage says ordeal won’t truly end until everyone is home Ton\n",
      "Molina/NurPhoto via Getty Images Lula says Trump ‘not elected to be\n",
      "emperor of the world’ as US-Brazil spat escalates • Video 2:28 CNN\n",
      "Video Explosions rock Damascus as Israel launches strikes on Syria\n",
      "2:28 Leon Neal/Getty Images Singer who stepped away from public eye\n",
      "says antipsychotic medication changed his life • Gallery Gallery Allan\n",
      "Grant/The LIFE Picture Collection/Shutterstock Gallery This is what\n",
      "Disneyland looked like when it opened 70 years ago Richard\n",
      "Harbaugh/RH3_5346/Richard Harbaugh / Image Group LA No, Walt Disney is\n",
      "not cryogenically frozen. But he comes magically back to life at\n",
      "Disneyland Courtesy the artist/Air de Paris, Romainville/Barbara Wien,\n",
      "Berlin Octopuses love art — here’s proof Guido Mieth/Digital\n",
      "Vision/Getty Images Influencer shower routines are overkill. Here’s\n",
      "the one thing you need for the shower, experts say Richard M.\n",
      "Wicker/Denver Museum of Nature and Science Dinosaur fossil found\n",
      "underneath a Denver museum’s parking lot freemixer/E+/Getty Images\n",
      "These 3 exercises may help with insomnia, new study finds Toby\n",
      "Hancock/CNN The greasy airbag of gratification that became Britain’s\n",
      "national dish Ad Feedback Featured Sections Space and Science\n",
      "Sakkmesterke/Science Photo Library RF/Getty Images Massive black hole\n",
      "collision raises new questions about physics of the universe World’s\n",
      "biggest Mars rock sells for $4.3 million at auction Two meteorites\n",
      "found in the Sahara could be from the solar system’s least studied\n",
      "rocky planet, scientists say Record-breaking ancient proteins\n",
      "retrieved from 24 million-year-old fossil Global Travel Brad\n",
      "Lendon/CNN 12 hours before World War II ended, American bombers\n",
      "reduced a Japanese city of 47,000 people to ash Restaurant in China\n",
      "offers lion cub cuddles alongside afternoon tea Liquids rule could be\n",
      "the next US airport security screening change, DHS Secretary suggests\n",
      "A librarian ran off with a yacht captain in the summer of 1968. It was\n",
      "the start of an incredible love story Ad Feedback Global Business Al\n",
      "Drago/Bloomberg/Getty Images/File Powell defends $2.5 billion Fed\n",
      "renovation in a point-by-point response to the Trump administration\n",
      "Trump takes credit for sweet change to Coca-Cola Video Listen to Mr.\n",
      "Rogers’ defense of public media funding in 1969 3:15 Copper prices\n",
      "have surged to record highs — and they could jump higher. Here’s why\n",
      "Art and Style Roslan Rahman/AFP/Getty Images This landmark is getting\n",
      "an $8 billion overhaul. The brief? Don’t mess with an ‘icon’ Look of\n",
      "the Week ‘Too Much’ star Megan Stalter is the Prettiest Girl in\n",
      "America Versace paid supermodels $30,000 each to appear in his shows.\n",
      "A new retrospective celebrates his work ‘They get more\n",
      "confrontational’: A painter’s self-portraits capture life, and art,\n",
      "with cerebral palsy through the years Sports Martin Bureau/AFP/Getty\n",
      "Images Norwegian Olympic ski cross medalist Audun Groenvold dies after\n",
      "being struck by lightning Eugenie Bouchard set to retire after leaving\n",
      "‘profound’ mark on Canadian tennis Liverpool players should ‘open up’\n",
      "about Diogo Jota’s death, urges former Premier League star Scottie\n",
      "Scheffler arrives at the Open with a chance to build on a meteoric\n",
      "rise. That success isn’t what fulfills him Ad Feedback US Politics\n",
      "POOL (NETSHARE) Democrats walk out as Senate Judiciary Republicans\n",
      "advance nomination of ex-Trump lawyer for judgeship Trump ‘would not\n",
      "recommend’ special prosecutor to investigate Epstein case, White House\n",
      "says Analysis Democrats are making 2028 moves. Here’s what to know\n",
      "State Department firings will hit Trump admin’s ability to tackle its\n",
      "own priorities, sources say Health and Wellness Newcastle Fertility\n",
      "Centre/AP Healthy babies born in Britain after scientists used DNA\n",
      "from three people ‘I forgot it was actually not my friend’: Here’s how\n",
      "teens are using AI companions As nicotine pouches’ popularity soars,\n",
      "they’re also responsible for more poisonings in young kids, study\n",
      "finds How to make sure you’re getting the right supplement. 5 expert\n",
      "tips to help you choose Tech Manuel Orbegozo/Reuters Facebook privacy\n",
      "practices the focus of $8 billion trial targeting Zuckerberg AI’s\n",
      "antisemitism problem is bigger than Grok Meta and AWS are teaming up\n",
      "to win over developers in the AI race Tech and energy giants pour\n",
      "billions to turn Pennsylvania into an AI hub as part of Trump’s tech\n",
      "push More from CNN Call to Earth Show all Matt Baker This river is\n",
      "running free for the first time in a century • Gallery Gallery\n",
      "Hansruedi Weyrich/Vulture Conservation Foundation Gallery Bearded\n",
      "vultures make a return Tom Booth/CNN ‘Super corals’ and supplements:\n",
      "Inside the lab trying to save the Great Barrier Reef Ad Feedback In\n",
      "Case You Missed It CNN Ecuador’s capital rocked by water shortage\n",
      "crisis upending daily life How the renewable energy industry lost a\n",
      "massive lobbying fight over Trump’s agenda bill Dress codes: Why do\n",
      "brides wear veils? Justice Department says former officer convicted in\n",
      "Breonna Taylor raid should get one day in jail Trump to sign\n",
      "legislation cracking down on illicit fentanyl With global sales\n",
      "slumping, Tesla tries to break into a new market Democrats with 2028\n",
      "ambitions are amassing cash, as are vulnerable House Republicans, FEC\n",
      "reports show Donald Trump’s eventful day at the Club World Cup final:\n",
      "Being booed, celebrating with Chelsea and a winner’s medal The deadly\n",
      "drug that’s complicating US-China trade Air India crash report answers\n",
      "one question – and raises more Subscribe Sign in My Account Settings\n",
      "Newsletters Topics you follow Sign out Your CNN account Sign in to\n",
      "your CNN account Live TV Listen Watch World Africa Americas Asia\n",
      "Australia China Europe India Middle East United Kingdom US Politics\n",
      "Trump Facts First CNN Polls 2025 Elections Business Tech Media\n",
      "Calculators Videos Markets Pre-markets After-Hours Fear & Greed\n",
      "Investing Markets Now Nightcap Health Life, But Better Fitness Food\n",
      "Sleep Mindfulness Relationships Entertainment Movies Television\n",
      "Celebrity Tech Innovate Foreseeable Future Mission: Ahead Work\n",
      "Transformed Innovative Cities Style Arts Design Fashion Architecture\n",
      "Luxury Beauty Video Travel Destinations Food & Drink Stay News Videos\n",
      "Sports Football Tennis Golf Motorsport US Sports Olympics Climbing\n",
      "Esports Hockey Science Space Life Unearthed Climate Solutions Weather\n",
      "Weather Video Climate Ukraine-Russia War Israel-Hamas War Features As\n",
      "Equals Call to Earth Freedom Project Impact Your World Inside Africa\n",
      "CNN Heroes Watch Live TV CNN Fast Shows A-Z CNN10 CNN Max CNN TV\n",
      "Schedules Listen CNN 5 Things Chasing Life with Dr. Sanjay Gupta The\n",
      "Assignment with Audie Cornish One Thing Tug of War CNN Political\n",
      "Briefing The Axe Files All There Is with Anderson Cooper All CNN Audio\n",
      "podcasts Games Daily Crossword Jumble Crossword Photo Shuffle\n",
      "Sudoblock Sudoku 5 Things Quiz About CNN Photos Investigations CNN\n",
      "Profiles CNN Leadership CNN Newsletters Work for CNN Watch Listen Live\n",
      "TV Follow CNN Subscribe Sign in My Account Settings Newsletters Topics\n",
      "you follow Sign out Your CNN account Sign in to your CNN account Terms\n",
      "of Use Privacy Policy Cookie Settings Ad Choices Accessibility & CC\n",
      "About Newsletters Transcripts © 2025 Cable News Network. A Warner\n",
      "Bros. Discovery Company. All Rights Reserved. CNN Sans ™ & © 2016\n",
      "Cable News Network. Manage Cookies+ When you visit any website, it may\n",
      "store or retrieve information on your browser, mostly in the form of\n",
      "cookies. This information might be about you, your preferences or your\n",
      "device and is mostly used to make the site work as you expect it to.\n",
      "The information does not usually directly identify you, but it can\n",
      "give you a more personalized web experience. Because we respect your\n",
      "right to privacy, you can choose not to allow some types of cookies.\n",
      "Click on the different category headings to find out more and change\n",
      "our default settings. However, blocking some types of cookies may\n",
      "impact your experience of the site and the services we are able to\n",
      "offer. Privacy Policy Allow All Manage Consent Preferences Use limited\n",
      "data to select advertising Use limited data to select advertising\n",
      "Advertising presented to you on this service can be based on limited\n",
      "data, such as the website or app you are using, your non-precise\n",
      "location, your device type or which content you are (or have been)\n",
      "interacting with (for example, to limit the number of times an ad is\n",
      "presented to you). Use profiles to select personalised advertising Use\n",
      "profiles to select personalised advertising Advertising presented to\n",
      "you on this service can be based on your advertising profiles, which\n",
      "can reflect your activity on this service or other websites or apps\n",
      "(like the forms you submit, content you look at), possible interests\n",
      "and personal aspects. Create profiles for personalised advertising\n",
      "Create profiles for personalised advertising Information about your\n",
      "activity on this service (such as forms you submit, content you look\n",
      "at) can be stored and combined with other information about you (for\n",
      "example, information from your previous activity on this service and\n",
      "other websites or apps) or similar users. This is then used to build\n",
      "or improve a profile about you (that might include possible interests\n",
      "and personal aspects). Your profile can be used (also later) to\n",
      "present advertising that appears more relevant based on your possible\n",
      "interests by this and other entities. Use profiles to select\n",
      "personalised content Use profiles to select personalised content\n",
      "Content presented to you on this service can be based on your content\n",
      "personalisation profiles, which can reflect your activity on this or\n",
      "other services (for instance, the forms you submit, content you look\n",
      "at), possible interests and personal aspects. This can for example be\n",
      "used to adapt the order in which content is shown to you, so that it\n",
      "is even easier for you to find (non-advertising) content that matches\n",
      "your interests. Create profiles to personalise content Create profiles\n",
      "to personalise content Information about your activity on this service\n",
      "(for instance, forms you submit, non-advertising content you look at)\n",
      "can be stored and combined with other information about you (such as\n",
      "your previous activity on this service or other websites or apps) or\n",
      "similar users. This is then used to build or improve a profile about\n",
      "you (which might for example include possible interests and personal\n",
      "aspects). Your profile can be used (also later) to present content\n",
      "that appears more relevant based on your possible interests, such as\n",
      "by adapting the order in which content is shown to you, so that it is\n",
      "even easier for you to find content that matches your interests.\n",
      "Measure advertising performance Measure advertising performance\n",
      "Information regarding which advertising is presented to you and how\n",
      "you interact with it can be used to determine how well an advert has\n",
      "worked for you or other users and whether the goals of the advertising\n",
      "were reached. For instance, whether you saw an ad, whether you clicked\n",
      "on it, whether it led you to buy a product or visit a website, etc.\n",
      "This is very helpful to understand the relevance of advertising\n",
      "campaigns. Measure content performance Measure content performance\n",
      "Information regarding which content is presented to you and how you\n",
      "interact with it can be used to determine whether the (non-\n",
      "advertising) content e.g. reached its intended audience and matched\n",
      "your interests. For instance, whether you read an article, watch a\n",
      "video, listen to a podcast or look at a product description, how long\n",
      "you spent on this service and the web pages you visit etc. This is\n",
      "very helpful to understand the relevance of (non-advertising) content\n",
      "that is shown to you. Understand audiences through statistics or\n",
      "combinations of data from different sources Understand audiences\n",
      "through statistics or combinations of data from different sources\n",
      "Reports can be generated based on the combination of data sets (like\n",
      "user profiles, statistics, market research, analytics data) regarding\n",
      "your interactions and those of other users with advertising or (non-\n",
      "advertising) content to identify common characteristics (for instance,\n",
      "to determine which target audiences are more receptive to an ad\n",
      "campaign or to certain contents). Develop and improve services Develop\n",
      "and improve services Information about your activity on this service,\n",
      "such as your interaction with ads or content, can be very helpful to\n",
      "improve products and services and to build new products and services\n",
      "based on user interactions, the type of audience, etc. This specific\n",
      "purpose does not include the development or improvement of user\n",
      "profiles and identifiers. Ensure security, prevent and detect fraud,\n",
      "and fix errors Always Active Your data can be used to monitor for and\n",
      "prevent unusual and possibly fraudulent activity (for example,\n",
      "regarding advertising, ad clicks by bots), and ensure systems and\n",
      "processes work properly and securely. It can also be used to correct\n",
      "any problems you, the publisher or the advertiser may encounter in the\n",
      "delivery of content and ads and in your interaction with them. Deliver\n",
      "and present advertising and content Always Active Certain information\n",
      "(like an IP address or device capabilities) is used to ensure the\n",
      "technical compatibility of the content or advertising, and to\n",
      "facilitate the transmission of the content or ad to your device.\n",
      "Strictly Necessary Cookies Always Active These cookies are necessary\n",
      "for the website to function and cannot be switched off in our systems.\n",
      "You can set your browser to block or alert you about these cookies,\n",
      "but some parts of the site will not work. Back Button Cookie List\n",
      "Search Icon Filter Icon Clear checkbox label label Apply Cancel\n",
      "Consent Leg.Interest checkbox label label checkbox label label\n",
      "checkbox label label Essential Cookies Only Confirm My Choices\n"
     ]
    }
   ],
   "source": [
    "import textwrap\n",
    "print(textwrap.fill(text))"
   ]
  },
  {
   "cell_type": "code",
   "execution_count": 10,
   "metadata": {},
   "outputs": [],
   "source": [
    "all_tools = tools + [tool_push]"
   ]
  },
  {
   "cell_type": "code",
   "execution_count": 11,
   "metadata": {},
   "outputs": [],
   "source": [
    "\n",
    "llm = ChatOpenAI(model=\"gpt-4o-mini\")\n",
    "llm_with_tools = llm.bind_tools(all_tools)\n",
    "\n",
    "\n",
    "def chatbot(state: State):\n",
    "    return {\"messages\": [llm_with_tools.invoke(state[\"messages\"])]}\n"
   ]
  },
  {
   "cell_type": "code",
   "execution_count": 12,
   "metadata": {},
   "outputs": [
    {
     "data": {
      "image/png": "[encoded data removed]",
      "text/plain": [
       "<IPython.core.display.Image object>"
      ]
     },
     "metadata": {},
     "output_type": "display_data"
    }
   ],
   "source": [
    "\n",
    "graph_builder = StateGraph(State)\n",
    "graph_builder.add_node(\"chatbot\", chatbot)\n",
    "graph_builder.add_node(\"tools\", ToolNode(tools=all_tools))\n",
    "graph_builder.add_conditional_edges( \"chatbot\", tools_condition, \"tools\")\n",
    "graph_builder.add_edge(\"tools\", \"chatbot\")\n",
    "graph_builder.add_edge(START, \"chatbot\")\n",
    "\n",
    "memory = MemorySaver()\n",
    "graph = graph_builder.compile(checkpointer=memory)\n",
    "display(Image(graph.get_graph().draw_mermaid_png()))"
   ]
  },
  {
   "cell_type": "code",
   "execution_count": 13,
   "metadata": {},
   "outputs": [
    {
     "name": "stdout",
     "output_type": "stream",
     "text": [
      "* Running on local URL:  http://127.0.0.1:7860\n",
      "* To create a public link, set `share=True` in `launch()`.\n"
     ]
    },
    {
     "data": {
      "text/html": [
       "<div><iframe src=\"http://127.0.0.1:7860/\" width=\"100%\" height=\"500\" allow=\"autoplay; camera; microphone; clipboard-read; clipboard-write;\" frameborder=\"0\" allowfullscreen></iframe></div>"
      ],
      "text/plain": [
       "<IPython.core.display.HTML object>"
      ]
     },
     "metadata": {},
     "output_type": "display_data"
    },
    {
     "data": {
      "text/plain": []
     },
     "execution_count": 13,
     "metadata": {},
     "output_type": "execute_result"
    }
   ],
   "source": [
    "config = {\"configurable\": {\"thread_id\": \"10\"}}\n",
    "\n",
    "async def chat(user_input: str, history):\n",
    "    result = await graph.ainvoke({\"messages\": [{\"role\": \"user\", \"content\": user_input}]}, config=config)\n",
    "    return result[\"messages\"][-1].content\n",
    "\n",
    "\n",
    "gr.ChatInterface(chat, type=\"messages\").launch()"
   ]
  },
  {
   "cell_type": "code",
   "execution_count": null,
   "metadata": {},
   "outputs": [],
   "source": []
  }
 ],
 "metadata": {
  "kernelspec": {
   "display_name": ".venv",
   "language": "python",
   "name": "python3"
  },
  "language_info": {
   "codemirror_mode": {
    "name": "ipython",
    "version": 3
   },
   "file_extension": ".py",
   "mimetype": "text/x-python",
   "name": "python",
   "nbconvert_exporter": "python",
   "pygments_lexer": "ipython3",
   "version": "3.12.11"
  }
 },
 "nbformat": 4,
 "nbformat_minor": 2
}
