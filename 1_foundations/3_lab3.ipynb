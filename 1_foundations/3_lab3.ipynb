{
 "cells": [
  {
   "cell_type": "markdown",
   "metadata": {},
   "source": [
    "## Welcome to Lab 3 for Week 1 Day 4\n",
    "\n",
    "Today we're going to build something with immediate value!\n",
    "\n",
    "In the folder `me` I've put a single file `linkedin.pdf` - it's a PDF download of my LinkedIn profile.\n",
    "\n",
    "Please replace it with yours!\n",
    "\n",
    "I've also made a file called `summary.txt`\n",
    "\n",
    "We're not going to use Tools just yet - we're going to add the tool tomorrow."
   ]
  },
  {
   "cell_type": "markdown",
   "metadata": {},
   "source": [
    "<table style=\"margin: 0; text-align: left; width:100%\">\n",
    "    <tr>\n",
    "        <td style=\"width: 150px; height: 150px; vertical-align: middle;\">\n",
    "            <img src=\"../assets/tools.png\" width=\"150\" height=\"150\" style=\"display: block;\" />\n",
    "        </td>\n",
    "        <td>\n",
    "            <h2 style=\"color:#00bfff;\">Looking up packages</h2>\n",
    "            <span style=\"color:#00bfff;\">In this lab, we're going to use the wonderful Gradio package for building quick UIs, \n",
    "            and we're also going to use the popular PyPDF PDF reader. You can get guides to these packages by asking \n",
    "            ChatGPT or Claude, and you find all open-source packages on the repository <a href=\"https://pypi.org\">https://pypi.org</a>.\n",
    "            </span>\n",
    "        </td>\n",
    "    </tr>\n",
    "</table>"
   ]
  },
  {
   "cell_type": "code",
   "execution_count": 1,
   "metadata": {},
   "outputs": [],
   "source": [
    "# If you don't know what any of these packages do - you can always ask ChatGPT for a guide!\n",
    "\n",
    "from dotenv import load_dotenv\n",
    "from openai import OpenAI\n",
    "from pypdf import PdfReader\n",
    "import gradio as gr"
   ]
  },
  {
   "cell_type": "code",
   "execution_count": 2,
   "metadata": {},
   "outputs": [],
   "source": [
    "load_dotenv(override=True)\n",
    "openai = OpenAI()"
   ]
  },
  {
   "cell_type": "code",
   "execution_count": 13,
   "metadata": {},
   "outputs": [],
   "source": [
    "reader = PdfReader(\"me/lattes.pdf\")\n",
    "linkedin = \"\"\n",
    "for page in reader.pages:\n",
    "    text = page.extract_text()\n",
    "    if text:\n",
    "        linkedin += text"
   ]
  },
  {
   "cell_type": "code",
   "execution_count": 14,
   "metadata": {},
   "outputs": [
    {
     "name": "stdout",
     "output_type": "stream",
     "text": [
      "Endereço Profissional Universidade Federal de Santa Catarina, UNIVERSIDADE FEDERAL DE SANTA CATARINA -\n",
      "UFSC, Centro Tecnológico, Departamento de Engenharia Elétrica.  UFSC - Universidade Federal de Santa Catarina Trindade 88040900 - Florianópolis, SC - Brasil Telefone: (48) 37214871 URL da Homepage: http://www.labplan.ufsc.br/\n",
      "2018 - 2022 Mestrado em Engenharia Elétrica (Conceito CAPES 6).  Universidade Federal de Santa Catarina, UFSC, Brasil.  Título: Aproximações Lineares por Partes da Função de Produção Hidrelétrica para\n",
      "Aplicação em Problemas de Planejamento da Operação Energética,Ano de Obtenção:\n",
      "2022. Orientador: \n",
      " Erlon Cristian Finardi. Bolsista do(a): Coordenação de Aperfeiçoamento de Pessoal de Nível Superior, CAPES,\n",
      "Brasil.  Palavras-chave: Função de Produção Hidrelétrica; Aproximação Linear por Partes;\n",
      "Programação Linear Inteira Mista; Programação Quadrática Inteira Mista. Grande área: Engenharias Grande Área: Engenharias / Área: Engenharia de Energia / Subárea: Planejamento\n",
      "Energético.\n",
      "2011 - 2017 Graduação em Engenharia Elétrica.  Universidade Federal de Mato Grosso, UFMT, Brasil.  com período sanduíche em Kansas State University (Orientador: Prof Dr. Dorival\n",
      "Gonçalves Junior).  Título: ESTUDO DOS SUPERCONDUTORES E SUAS APLICAÇÕES NA ÁREA DE\n",
      "ENGENHARIA ELÉTRICA COM ÊNFASE EM TRANSFORMADORES E LINHAS DE\n",
      "TRANSMISSÃO.  Orientador: Prof Dr. Mario Kiyoshi Kawaphara.  Bolsista do(a): Coordenação de Aperfeiçoamento de Pessoal de Nível Superior, CAPES,\n",
      "Nome David Lucas dos Santos Abreu\n",
      "Nome em citações bibliográficasABREU, D. L. S.;ABREU, D.;DOS SANTOS ABREU, DAVID LUCAS\n",
      "Lattes iD\n",
      " http://lattes.cnpq.br/3812771659074916\n",
      "Orcid iD ? \n",
      " https://orcid.org/0000-0002-9535-1078\n",
      "David Lucas dos Santos Abreu\n",
      "Endereço para acessar este CV: http://lattes.cnpq.br/3812771659074916\n",
      "ID Lattes: 3812771659074916\n",
      "Última atualização do currículo em 04/03/2022\n",
      " \n",
      "Graduou-se em Engenharia Elétrica pela Universidade Federal de Mato Grosso (UFMT) em 2017 com período\n",
      "de intercâmbio na Kansas State University (KSU) nos Estados Unidos entre 2014 e 2015. Também atuou como\n",
      "assistente de pesquisa no Cato Springs Research Center (CSRC) na University Of Arkansas (UARK) em 2015. Em\n",
      "2022 obteve o título de mestre em Engenharia Elétrica pela Universidade Federal de Santa Catarina na área de\n",
      "Sistemas de Energia Elétrica. Tem interesse na área de Engenharia Elétrica, com ênfase em planejamento da\n",
      "operação de sistemas hidrotérmicos e modelagem matemática de sistemas hidrícos. Atualmente é vinculado ao\n",
      "Laboratório de Planejamento de Sistemas de Energia Elétrica (LabPlan) da UFSC e faz parte do projeto Sistema\n",
      "Baseado em Otimização e Medição para Elaboração do Despacho das Unidades Geradoras de Usinas Hidrelétricas\n",
      "por meio do INESC P&D e financiado pela Santo Antônio Energia (SAE). (Texto informado pelo autor)\n",
      " \n",
      "Identificação\n",
      " \n",
      "Endereço\n",
      " \n",
      " \n",
      "Formação acadêmica/titulação\n",
      " Brasil.\n",
      "2016 - 2016 Introduction to Programming with MATLAB - Online Course (COURSERA).. \n",
      "Vanderbilt University, VANDERBILT, Estados Unidos.\n",
      "2014 - 2015 Extensão universitária em Electrical and Computer Engineering. (Carga horária: 384h). \n",
      "Kansas State University, K-STATE, Estados Unidos.\n",
      "2014 - 2014 Extensão universitária em Advanced English. (Carga horária: 360h). \n",
      "Kansas State University, K-STATE, Estados Unidos.\n",
      "Vínculo institucional  \n",
      "2016 - 2016 Vínculo: Voluntário, Enquadramento Funcional: Projetista - Secretaria de Infraestrutura,\n",
      "Carga horária: 20, Regime: Dedicação exclusiva.\n",
      "Outras informações Funções durante o Estágio: 1. Elaboração de projetos elétricos de reformas; 2.\n",
      "Acompanhamento da execução dos projetos em andamento e dos recém-elaborados; 3.\n",
      "Elaboração de planilhas orçamentárias e de estimativa de custos de obras; 4. Projeto e\n",
      "acompanhamento da execução de quadros de força e comando; 5. Vistoria das instalações\n",
      "elétricas e medições de sistemas de aterramento (SPDA)\n",
      "Vínculo institucional  \n",
      "2011 - 2011 Vínculo: Bolsista, Enquadramento Funcional: Monitor de Calculo I, Carga horária: 20,\n",
      "Regime: Dedicação exclusiva.\n",
      "Vínculo institucional  \n",
      "2015 - 2015 Vínculo: Bolsista, Enquadramento Funcional: Assistente de Pesquisa, Carga horária: 40\n",
      "Outras informações Período de estágio obrigatório do programa Ciências sem Fronteiras, teve a duração de 2\n",
      "meses.\n",
      "Vínculo institucional  \n",
      "2015 - 2015 Vínculo: Bolsista, Enquadramento Funcional: Professor de Português, Carga horária: 2\n",
      "Vínculo institucional  \n",
      "2019 - Atual Vínculo: Colaborador, Enquadramento Funcional: Pesquisador Mestre\n",
      "Outras informações Ao abrigo da Lei 13.243 de 11 de Janeiro de 2016, em seu Art. 14-A, que declara que o\n",
      "pesquisador público em regime de dedicação exclusiva, inclusive aquele enquadrado em\n",
      "plano de carreiras e cargos de magistério, poderá exercer atividade remunerada de\n",
      "pesquisa, desenvolvimento e inovação em ICT ou em empresa e participar da execução de\n",
      "projeto aprovado ou custeado com recursos previstos nesta Lei, desde que observada a\n",
      "conveniência do órgão de origem e assegurada a continuidade de suas atividades de\n",
      "ensino ou pesquisa nesse órgão, a depender de sua respectiva natureza.\n",
      "Vínculo institucional  \n",
      "2018 - Atual Vínculo: Bolsista, Enquadramento Funcional: Pesquisador, Carga horária: 40, Regime:\n",
      "Dedicação exclusiva.\n",
      "2019 - Atual Sistema Baseado em Otimização e Medição para Elaboração do Despacho das Unidades\n",
      "Geradoras de Usinas Hidrelétricas\n",
      "Descrição: O foco é desenvolver uma plataforma computacional que determine a\n",
      "programação da operação, ou seja, quais unidades e os respectivos níveis de geração que\n",
      " \n",
      " \n",
      " \n",
      "Formação Complementar\n",
      " \n",
      " \n",
      "Atuação Profissional\n",
      " \n",
      "Universidade Federal de Mato Grosso, UFMT, Brasil.\n",
      " \n",
      " \n",
      " \n",
      "University of Arkansas, UARK, Estados Unidos.\n",
      " \n",
      " \n",
      "Kansas State University, K-STATE, Estados Unidos.\n",
      " \n",
      " \n",
      "INESC P&D Brasil - Instituto de Engenharia de Sistemas, INESC P&D BRASIL, Brasil.\n",
      " \n",
      " \n",
      "Universidade Federal de Santa Catarina, UFSC, Brasil.\n",
      " \n",
      " \n",
      " \n",
      "Projetos de pesquisa\n",
      " atendem o Programa Diária da Produção fornecido pelo ONS, e com base na programação,\n",
      "obter em tempo real o despacho individual das unidades de forma a maximizar a eficiência\n",
      "global da UHE. Em paralelo, a plataforma também realizará uma análise pósoperativa de\n",
      "modo a efetivamente avaliar as diferenças entre a decisão oriunda dos modelos de\n",
      "otimização e o que foi realmente praticado na usina. \n",
      "Situação: Em andamento; Natureza: Pesquisa. \n",
      "Alunos envolvidos: Graduação: (5) / Mestrado acadêmico: (1) / Doutorado: (2) . \n",
      " \n",
      "Integrantes: David Lucas dos Santos Abreu - Integrante / Erlon Cristian Finardi -\n",
      "Coordenador / Brunno Henrique Brito - Integrante / Fabrício Yutaka Kuwabata Takigawa -\n",
      "Integrante / Leonardo Augusto Weiss - Integrante / Airton Isaac Pereira - Integrante /\n",
      "Rodrigo Pereira Gosmann - Integrante / Danilo Pinchemel Cardoso Filho - Integrante /\n",
      "Marcelo Vogt - Integrante / Antonio Felipe da Cunha de Aquino - Integrante.\n",
      "Financiador(es): SANTO ANTÔNIO ENERGIA S.A. - Outra.\n",
      "Número de produções C, T & A: 2\n",
      "2015 - 2015 Low Power Silicon Carbide RS-485 Transceive\n",
      "Descrição: This paper describes the first RS-485 transceiver for high temperature\n",
      "applications designed in SiC-CMOS. The transceiver was designed and developed in a\n",
      "1.2μm CMOS HiTSiC® process from Raytheon UK. It has been tested at a voltage supply\n",
      "of 15 V from temperatures of 25°C to 400°C. At 320°C, the rise and fall times are 40 ns\n",
      "(for both), and the propagation delay from driver to output high and to output low is 150\n",
      "ns and 50 ns respectively. The transceiver has been demonstrated to operate over 700 m\n",
      "of Cat5 cable. A high temperature data acquisition and transmission system has potential\n",
      "applications such as deep earth drilling, remote connection to high temperature locations,\n",
      "and high temperature data acquisition.. \n",
      "Situação: Concluído; Natureza: Pesquisa. \n",
      " \n",
      "Integrantes: David Lucas dos Santos Abreu - Coordenador / Maria. R. Benavides -\n",
      "Integrante / Ashfaq Rahman - Integrante / Matt Barlow - Integrante / Alan Mantooth -\n",
      "Integrante.\n",
      " \n",
      "Número de produções C, T & A: 1\n",
      "1. Grande área: Engenharias / Área: Engenharia Elétrica. \n",
      "2. Grande área: Engenharias / Área: Engenharia Elétrica / Subárea: Sistemas de Potência. \n",
      "3. Grande área: Engenharias / Área: Engenharia de Energia / Subárea: Planejamento\n",
      "Energético. \n",
      "4. Grande área: Engenharias / Área: Engenharia Elétrica / Subárea: Eletrônica. \n",
      "5. Grande área: Engenharias / Área: Engenharia Elétrica / Subárea: Automação e Controle. \n",
      "Inglês Compreende Bem, Fala Bem, Lê Bem, Escreve Bem.\n",
      "Espanhol Compreende Razoavelmente, Fala Pouco, Lê Bem, Escreve Pouco.\n",
      "Português Compreende Bem, Fala Bem, Lê Bem, Escreve Bem.\n",
      "Alemão Compreende Razoavelmente, Fala Pouco, Lê Razoavelmente, Escreve Razoavelmente.\n",
      "2014 Oustanding Student Award Winner Fall 2014, Kansas State University.\n",
      "1.\n",
      "  DOS SANTOS ABREU, DAVID LUCAS; FINARDI, ERLON CRISTIAN . Continuous Piecewise Linear Approximation\n",
      "of Plant-Based Hydro Production Function for Generation Scheduling Problems. Energies\n",
      " , v. 15, p. 1699, 2022.\n",
      " \n",
      "Áreas de atuação\n",
      " \n",
      " \n",
      "Idiomas\n",
      " \n",
      " \n",
      "Prêmios e títulos\n",
      " \n",
      " \n",
      "Produções\n",
      " \n",
      "Produção bibliográfica\n",
      "Artigos completos publicados em periódicos\n",
      " \n",
      "Ordenar por\n",
      "Ordem Cronológica\n",
      " 2.\n",
      "  BRITO, BRUNNO HENRIQUE ; PEREIRA, AIRTON ISAAC ; GOSMANN, RODRIGO PEREIRA ; FINARDI, ERLON\n",
      "CRISTIAN ; DOS SANTOS ABREU, DAVID LUCAS ; TAKIGAWA, FABRÍCIO YUTAKA KUWABATA ; MENDES, PABLO TOLDO\n",
      "; WEISS, LEONARDO AUGUSTO ; DE ASSIS MORAIS, DOUGLAS TEIXEIRA SILVA ; FERNANDES, ARGEMIRO . Real-Time\n",
      "Optimal Load Dispatch Recommendation System for the Santo Antônio Hydroelectric Power Plant. Journal Of Control\n",
      "Automation And Electrical Systems\n",
      " , v. -, p. -, 2021.\n",
      "3.\n",
      "  BENAVIDES, M. R. ; CASTILLO, A. N. ; RAHMAN, A. ; BARLOW, M. ; ABREU, D. ; ROWLETT, C. ; MANTOOTH, H.\n",
      "A. ; FRANCIS, A. M. ; HOLMES, J. A. . Low Power Silicon Carbide RS-485 Transceiver. Additional Conferences (Device\n",
      "Packaging, HiTEC, HiTEN, & CICMT), v. 2016, p. 000257-000262, 2016.\n",
      "1. PEREIRA GOSMANN, RODRIGO ; PEREIRA, AIRTON ISAAC ; WEISS, LEONARDO AUGUSTO ; TOLDO MENDES, PABLO\n",
      "; BRITO, BRUNNO HENRIQUE ; DOS SANTOS ABREU, DAVID LUCAS ; FINARDI, ERLON CRISTIAN ; YUTAKA KUWABATA\n",
      "TAKIGAWA, FABRÍCIO ; TEIXEIRA SILVA DE ASSIS MORAIS, DOUGLAS ; FERNANDES, ARGEMIRO . Sistema de\n",
      "Recomendação de Distribuição Ótima de Carga para as Unidades Geradoras da Usina Hidrelétrica de Santo Antônio. In:\n",
      "Congresso Brasileiro de Automática 2020, 2020. Anais do Congresso Brasileiro de Automática 2020.\n",
      "1. II Semana de Engenharia Elétrica. 2016. (Encontro).\n",
      "2. I Semana de Engenharia Elétrica. 2013. (Encontro).\n",
      "2019 - Atual Sistema Baseado em Otimização e Medição para Elaboração do Despacho das Unidades\n",
      "Geradoras de Usinas Hidrelétricas\n",
      "Descrição: O foco é desenvolver uma plataforma computacional que determine a\n",
      "programação da operação, ou seja, quais unidades e os respectivos níveis de geração que\n",
      "atendem o Programa Diária da Produção fornecido pelo ONS, e com base na programação,\n",
      "obter em tempo real o despacho individual das unidades de forma a maximizar a eficiência\n",
      "global da UHE. Em paralelo, a plataforma também realizará uma análise pósoperativa de\n",
      "modo a efetivamente avaliar as diferenças entre a decisão oriunda dos modelos de\n",
      "otimização e o que foi realmente praticado na usina. \n",
      "Situação: Em andamento; Natureza: Pesquisa. \n",
      "Alunos envolvidos: Graduação: (5) / Mestrado acadêmico: (1) / Doutorado: (2) . \n",
      " \n",
      "Integrantes: David Lucas dos Santos Abreu - Integrante / Erlon Cristian Finardi -\n",
      "Coordenador / Brunno Henrique Brito - Integrante / Fabrício Yutaka Kuwabata Takigawa -\n",
      "Integrante / Leonardo Augusto Weiss - Integrante / Airton Isaac Pereira - Integrante /\n",
      "Rodrigo Pereira Gosmann - Integrante / Danilo Pinchemel Cardoso Filho - Integrante /\n",
      "Marcelo Vogt - Integrante / Antonio Felipe da Cunha de Aquino - Integrante.\n",
      "Financiador(es): SANTO ANTÔNIO ENERGIA S.A. - Outra.\n",
      "Número de produções C, T & A: 2\n",
      "2015 - 2015 Low Power Silicon Carbide RS-485 Transceive\n",
      "Descrição: This paper describes the first RS-485 transceiver for high temperature\n",
      "applications designed in SiC-CMOS. The transceiver was designed and developed in a\n",
      "1.2μm CMOS HiTSiC® process from Raytheon UK. It has been tested at a voltage supply\n",
      "of 15 V from temperatures of 25°C to 400°C. At 320°C, the rise and fall times are 40 ns\n",
      "(for both), and the propagation delay from driver to output high and to output low is 150\n",
      "ns and 50 ns respectively. The transceiver has been demonstrated to operate over 700 m\n",
      "of Cat5 cable. A high temperature data acquisition and transmission system has potential\n",
      "applications such as deep earth drilling, remote connection to high temperature locations,\n",
      "and high temperature data acquisition.. \n",
      "Situação: Concluído; Natureza: Pesquisa. \n",
      " \n",
      "Integrantes: David Lucas dos Santos Abreu - Coordenador / Maria. R. Benavides -\n",
      "Integrante / Ashfaq Rahman - Integrante / Matt Barlow - Integrante / Alan Mantooth -\n",
      "Integrante.\n",
      " \n",
      "Número de produções C, T & A: 1\n",
      " \n",
      " \n",
      "Trabalhos completos publicados em anais de congressos\n",
      " \n",
      " \n",
      " \n",
      "Eventos\n",
      " \n",
      "Participação em eventos, congressos, exposições e feiras\n",
      " \n",
      " \n",
      " \n",
      " \n",
      "Inovação\n",
      " \n",
      "Projetos de pesquisa\n",
      " \n",
      "  \n",
      " \n",
      "Página gerada pelo Sistema Currículo Lattes em 08/03/2022 às 13:38:20\n",
      " \n",
      " \n",
      "I mprimir currículo\n"
     ]
    }
   ],
   "source": [
    "print(linkedin)"
   ]
  },
  {
   "cell_type": "code",
   "execution_count": 15,
   "metadata": {},
   "outputs": [],
   "source": [
    "with open(\"me/summary.txt\", \"r\", encoding=\"utf-8\") as f:\n",
    "    summary = f.read()"
   ]
  },
  {
   "cell_type": "code",
   "execution_count": 16,
   "metadata": {},
   "outputs": [],
   "source": [
    "name = \"David Abreu\""
   ]
  },
  {
   "cell_type": "code",
   "execution_count": 17,
   "metadata": {},
   "outputs": [],
   "source": [
    "system_prompt = f\"You are acting as {name}. You are answering questions on {name}'s website, \\\n",
    "particularly questions related to {name}'s career, background, skills and experience. \\\n",
    "Your responsibility is to represent {name} for interactions on the website as faithfully as possible. \\\n",
    "You are given a summary of {name}'s background and Lattes profile which you can use to answer questions. \\\n",
    "Be professional and engaging, as if talking to a potential client or future employer who came across the website. \\\n",
    "If you don't know the answer, say so.\"\n",
    "\n",
    "system_prompt += f\"\\n\\n## Summary:\\n{summary}\\n\\n## Lattes Profile:\\n{linkedin}\\n\\n\"\n",
    "system_prompt += f\"With this context, please chat with the user, always staying in character as {name}.\"\n"
   ]
  },
  {
   "cell_type": "code",
   "execution_count": 18,
   "metadata": {},
   "outputs": [
    {
     "data": {
      "text/plain": [
       "\"You are acting as David Abreu. You are answering questions on David Abreu's website, particularly questions related to David Abreu's career, background, skills and experience. Your responsibility is to represent David Abreu for interactions on the website as faithfully as possible. You are given a summary of David Abreu's background and Lattes profile which you can use to answer questions. Be professional and engaging, as if talking to a potential client or future employer who came across the website. If you don't know the answer, say so.\\n\\n## Summary:\\nMy name is David. I'm an PHD Candidate in electrical engineering, electrical engineer. I'm from Brazil, currently living in FlorianÓpolis since 2020.\\nI love all foods, particularly italian food. I enjoy animes and movies, learning new languages and acquiring new skills. Recently I am very into AI learning.\\n\\n## Lattes Profile:\\nEndereço Profissional Universidade Federal de Santa Catarina, UNIVERSIDADE FEDERAL DE SANTA CATARINA -\\nUFSC, Centro Tecnológico, Departamento de Engenharia Elétrica.  UFSC - Universidade Federal de Santa Catarina Trindade 88040900 - Florianópolis, SC - Brasil Telefone: (48) 37214871 URL da Homepage: http://www.labplan.ufsc.br/\\n2018 - 2022 Mestrado em Engenharia Elétrica (Conceito CAPES 6).  Universidade Federal de Santa Catarina, UFSC, Brasil.  Título: Aproximações Lineares por Partes da Função de Produção Hidrelétrica para\\nAplicação em Problemas de Planejamento da Operação Energética,Ano de Obtenção:\\n2022. Orientador: \\n Erlon Cristian Finardi. Bolsista do(a): Coordenação de Aperfeiçoamento de Pessoal de Nível Superior, CAPES,\\nBrasil.  Palavras-chave: Função de Produção Hidrelétrica; Aproximação Linear por Partes;\\nProgramação Linear Inteira Mista; Programação Quadrática Inteira Mista. Grande área: Engenharias Grande Área: Engenharias / Área: Engenharia de Energia / Subárea: Planejamento\\nEnergético.\\n2011 - 2017 Graduação em Engenharia Elétrica.  Universidade Federal de Mato Grosso, UFMT, Brasil.  com período sanduíche em Kansas State University (Orientador: Prof Dr. Dorival\\nGonçalves Junior).  Título: ESTUDO DOS SUPERCONDUTORES E SUAS APLICAÇÕES NA ÁREA DE\\nENGENHARIA ELÉTRICA COM ÊNFASE EM TRANSFORMADORES E LINHAS DE\\nTRANSMISSÃO.  Orientador: Prof Dr. Mario Kiyoshi Kawaphara.  Bolsista do(a): Coordenação de Aperfeiçoamento de Pessoal de Nível Superior, CAPES,\\nNome David Lucas dos Santos Abreu\\nNome em citações bibliográficasABREU, D. L. S.;ABREU, D.;DOS SANTOS ABREU, DAVID LUCAS\\nLattes iD\\n http://lattes.cnpq.br/3812771659074916\\nOrcid iD ? \\n https://orcid.org/0000-0002-9535-1078\\nDavid Lucas dos Santos Abreu\\nEndereço para acessar este CV: http://lattes.cnpq.br/3812771659074916\\nID Lattes: 3812771659074916\\nÚltima atualização do currículo em 04/03/2022\\n \\nGraduou-se em Engenharia Elétrica pela Universidade Federal de Mato Grosso (UFMT) em 2017 com período\\nde intercâmbio na Kansas State University (KSU) nos Estados Unidos entre 2014 e 2015. Também atuou como\\nassistente de pesquisa no Cato Springs Research Center (CSRC) na University Of Arkansas (UARK) em 2015. Em\\n2022 obteve o título de mestre em Engenharia Elétrica pela Universidade Federal de Santa Catarina na área de\\nSistemas de Energia Elétrica. Tem interesse na área de Engenharia Elétrica, com ênfase em planejamento da\\noperação de sistemas hidrotérmicos e modelagem matemática de sistemas hidrícos. Atualmente é vinculado ao\\nLaboratório de Planejamento de Sistemas de Energia Elétrica (LabPlan) da UFSC e faz parte do projeto Sistema\\nBaseado em Otimização e Medição para Elaboração do Despacho das Unidades Geradoras de Usinas Hidrelétricas\\npor meio do INESC P&D e financiado pela Santo Antônio Energia (SAE). (Texto informado pelo autor)\\n \\nIdentificação\\n \\nEndereço\\n \\n \\nFormação acadêmica/titulação\\n Brasil.\\n2016 - 2016 Introduction to Programming with MATLAB - Online Course (COURSERA).. \\nVanderbilt University, VANDERBILT, Estados Unidos.\\n2014 - 2015 Extensão universitária em Electrical and Computer Engineering. (Carga horária: 384h). \\nKansas State University, K-STATE, Estados Unidos.\\n2014 - 2014 Extensão universitária em Advanced English. (Carga horária: 360h). \\nKansas State University, K-STATE, Estados Unidos.\\nVínculo institucional  \\n2016 - 2016 Vínculo: Voluntário, Enquadramento Funcional: Projetista - Secretaria de Infraestrutura,\\nCarga horária: 20, Regime: Dedicação exclusiva.\\nOutras informações Funções durante o Estágio: 1. Elaboração de projetos elétricos de reformas; 2.\\nAcompanhamento da execução dos projetos em andamento e dos recém-elaborados; 3.\\nElaboração de planilhas orçamentárias e de estimativa de custos de obras; 4. Projeto e\\nacompanhamento da execução de quadros de força e comando; 5. Vistoria das instalações\\nelétricas e medições de sistemas de aterramento (SPDA)\\nVínculo institucional  \\n2011 - 2011 Vínculo: Bolsista, Enquadramento Funcional: Monitor de Calculo I, Carga horária: 20,\\nRegime: Dedicação exclusiva.\\nVínculo institucional  \\n2015 - 2015 Vínculo: Bolsista, Enquadramento Funcional: Assistente de Pesquisa, Carga horária: 40\\nOutras informações Período de estágio obrigatório do programa Ciências sem Fronteiras, teve a duração de 2\\nmeses.\\nVínculo institucional  \\n2015 - 2015 Vínculo: Bolsista, Enquadramento Funcional: Professor de Português, Carga horária: 2\\nVínculo institucional  \\n2019 - Atual Vínculo: Colaborador, Enquadramento Funcional: Pesquisador Mestre\\nOutras informações Ao abrigo da Lei 13.243 de 11 de Janeiro de 2016, em seu Art. 14-A, que declara que o\\npesquisador público em regime de dedicação exclusiva, inclusive aquele enquadrado em\\nplano de carreiras e cargos de magistério, poderá exercer atividade remunerada de\\npesquisa, desenvolvimento e inovação em ICT ou em empresa e participar da execução de\\nprojeto aprovado ou custeado com recursos previstos nesta Lei, desde que observada a\\nconveniência do órgão de origem e assegurada a continuidade de suas atividades de\\nensino ou pesquisa nesse órgão, a depender de sua respectiva natureza.\\nVínculo institucional  \\n2018 - Atual Vínculo: Bolsista, Enquadramento Funcional: Pesquisador, Carga horária: 40, Regime:\\nDedicação exclusiva.\\n2019 - Atual Sistema Baseado em Otimização e Medição para Elaboração do Despacho das Unidades\\nGeradoras de Usinas Hidrelétricas\\nDescrição: O foco é desenvolver uma plataforma computacional que determine a\\nprogramação da operação, ou seja, quais unidades e os respectivos níveis de geração que\\n \\n \\n \\nFormação Complementar\\n \\n \\nAtuação Profissional\\n \\nUniversidade Federal de Mato Grosso, UFMT, Brasil.\\n \\n \\n \\nUniversity of Arkansas, UARK, Estados Unidos.\\n \\n \\nKansas State University, K-STATE, Estados Unidos.\\n \\n \\nINESC P&D Brasil - Instituto de Engenharia de Sistemas, INESC P&D BRASIL, Brasil.\\n \\n \\nUniversidade Federal de Santa Catarina, UFSC, Brasil.\\n \\n \\n \\nProjetos de pesquisa\\n atendem o Programa Diária da Produção fornecido pelo ONS, e com base na programação,\\nobter em tempo real o despacho individual das unidades de forma a maximizar a eficiência\\nglobal da UHE. Em paralelo, a plataforma também realizará uma análise pósoperativa de\\nmodo a efetivamente avaliar as diferenças entre a decisão oriunda dos modelos de\\notimização e o que foi realmente praticado na usina. \\nSituação: Em andamento; Natureza: Pesquisa. \\nAlunos envolvidos: Graduação: (5) / Mestrado acadêmico: (1) / Doutorado: (2) . \\n \\nIntegrantes: David Lucas dos Santos Abreu - Integrante / Erlon Cristian Finardi -\\nCoordenador / Brunno Henrique Brito - Integrante / Fabrício Yutaka Kuwabata Takigawa -\\nIntegrante / Leonardo Augusto Weiss - Integrante / Airton Isaac Pereira - Integrante /\\nRodrigo Pereira Gosmann - Integrante / Danilo Pinchemel Cardoso Filho - Integrante /\\nMarcelo Vogt - Integrante / Antonio Felipe da Cunha de Aquino - Integrante.\\nFinanciador(es): SANTO ANTÔNIO ENERGIA S.A. - Outra.\\nNúmero de produções C, T & A: 2\\n2015 - 2015 Low Power Silicon Carbide RS-485 Transceive\\nDescrição: This paper describes the first RS-485 transceiver for high temperature\\napplications designed in SiC-CMOS. The transceiver was designed and developed in a\\n1.2μm CMOS HiTSiC® process from Raytheon UK. It has been tested at a voltage supply\\nof 15 V from temperatures of 25°C to 400°C. At 320°C, the rise and fall times are 40 ns\\n(for both), and the propagation delay from driver to output high and to output low is 150\\nns and 50 ns respectively. The transceiver has been demonstrated to operate over 700 m\\nof Cat5 cable. A high temperature data acquisition and transmission system has potential\\napplications such as deep earth drilling, remote connection to high temperature locations,\\nand high temperature data acquisition.. \\nSituação: Concluído; Natureza: Pesquisa. \\n \\nIntegrantes: David Lucas dos Santos Abreu - Coordenador / Maria. R. Benavides -\\nIntegrante / Ashfaq Rahman - Integrante / Matt Barlow - Integrante / Alan Mantooth -\\nIntegrante.\\n \\nNúmero de produções C, T & A: 1\\n1. Grande área: Engenharias / Área: Engenharia Elétrica. \\n2. Grande área: Engenharias / Área: Engenharia Elétrica / Subárea: Sistemas de Potência. \\n3. Grande área: Engenharias / Área: Engenharia de Energia / Subárea: Planejamento\\nEnergético. \\n4. Grande área: Engenharias / Área: Engenharia Elétrica / Subárea: Eletrônica. \\n5. Grande área: Engenharias / Área: Engenharia Elétrica / Subárea: Automação e Controle. \\nInglês Compreende Bem, Fala Bem, Lê Bem, Escreve Bem.\\nEspanhol Compreende Razoavelmente, Fala Pouco, Lê Bem, Escreve Pouco.\\nPortuguês Compreende Bem, Fala Bem, Lê Bem, Escreve Bem.\\nAlemão Compreende Razoavelmente, Fala Pouco, Lê Razoavelmente, Escreve Razoavelmente.\\n2014 Oustanding Student Award Winner Fall 2014, Kansas State University.\\n1.\\n  DOS SANTOS ABREU, DAVID LUCAS; FINARDI, ERLON CRISTIAN . Continuous Piecewise Linear Approximation\\nof Plant-Based Hydro Production Function for Generation Scheduling Problems. Energies\\n , v. 15, p. 1699, 2022.\\n \\nÁreas de atuação\\n \\n \\nIdiomas\\n \\n \\nPrêmios e títulos\\n \\n \\nProduções\\n \\nProdução bibliográfica\\nArtigos completos publicados em periódicos\\n \\nOrdenar por\\nOrdem Cronológica\\n 2.\\n  BRITO, BRUNNO HENRIQUE ; PEREIRA, AIRTON ISAAC ; GOSMANN, RODRIGO PEREIRA ; FINARDI, ERLON\\nCRISTIAN ; DOS SANTOS ABREU, DAVID LUCAS ; TAKIGAWA, FABRÍCIO YUTAKA KUWABATA ; MENDES, PABLO TOLDO\\n; WEISS, LEONARDO AUGUSTO ; DE ASSIS MORAIS, DOUGLAS TEIXEIRA SILVA ; FERNANDES, ARGEMIRO . Real-Time\\nOptimal Load Dispatch Recommendation System for the Santo Antônio Hydroelectric Power Plant. Journal Of Control\\nAutomation And Electrical Systems\\n , v. -, p. -, 2021.\\n3.\\n  BENAVIDES, M. R. ; CASTILLO, A. N. ; RAHMAN, A. ; BARLOW, M. ; ABREU, D. ; ROWLETT, C. ; MANTOOTH, H.\\nA. ; FRANCIS, A. M. ; HOLMES, J. A. . Low Power Silicon Carbide RS-485 Transceiver. Additional Conferences (Device\\nPackaging, HiTEC, HiTEN, & CICMT), v. 2016, p. 000257-000262, 2016.\\n1. PEREIRA GOSMANN, RODRIGO ; PEREIRA, AIRTON ISAAC ; WEISS, LEONARDO AUGUSTO ; TOLDO MENDES, PABLO\\n; BRITO, BRUNNO HENRIQUE ; DOS SANTOS ABREU, DAVID LUCAS ; FINARDI, ERLON CRISTIAN ; YUTAKA KUWABATA\\nTAKIGAWA, FABRÍCIO ; TEIXEIRA SILVA DE ASSIS MORAIS, DOUGLAS ; FERNANDES, ARGEMIRO . Sistema de\\nRecomendação de Distribuição Ótima de Carga para as Unidades Geradoras da Usina Hidrelétrica de Santo Antônio. In:\\nCongresso Brasileiro de Automática 2020, 2020. Anais do Congresso Brasileiro de Automática 2020.\\n1. II Semana de Engenharia Elétrica. 2016. (Encontro).\\n2. I Semana de Engenharia Elétrica. 2013. (Encontro).\\n2019 - Atual Sistema Baseado em Otimização e Medição para Elaboração do Despacho das Unidades\\nGeradoras de Usinas Hidrelétricas\\nDescrição: O foco é desenvolver uma plataforma computacional que determine a\\nprogramação da operação, ou seja, quais unidades e os respectivos níveis de geração que\\natendem o Programa Diária da Produção fornecido pelo ONS, e com base na programação,\\nobter em tempo real o despacho individual das unidades de forma a maximizar a eficiência\\nglobal da UHE. Em paralelo, a plataforma também realizará uma análise pósoperativa de\\nmodo a efetivamente avaliar as diferenças entre a decisão oriunda dos modelos de\\notimização e o que foi realmente praticado na usina. \\nSituação: Em andamento; Natureza: Pesquisa. \\nAlunos envolvidos: Graduação: (5) / Mestrado acadêmico: (1) / Doutorado: (2) . \\n \\nIntegrantes: David Lucas dos Santos Abreu - Integrante / Erlon Cristian Finardi -\\nCoordenador / Brunno Henrique Brito - Integrante / Fabrício Yutaka Kuwabata Takigawa -\\nIntegrante / Leonardo Augusto Weiss - Integrante / Airton Isaac Pereira - Integrante /\\nRodrigo Pereira Gosmann - Integrante / Danilo Pinchemel Cardoso Filho - Integrante /\\nMarcelo Vogt - Integrante / Antonio Felipe da Cunha de Aquino - Integrante.\\nFinanciador(es): SANTO ANTÔNIO ENERGIA S.A. - Outra.\\nNúmero de produções C, T & A: 2\\n2015 - 2015 Low Power Silicon Carbide RS-485 Transceive\\nDescrição: This paper describes the first RS-485 transceiver for high temperature\\napplications designed in SiC-CMOS. The transceiver was designed and developed in a\\n1.2μm CMOS HiTSiC® process from Raytheon UK. It has been tested at a voltage supply\\nof 15 V from temperatures of 25°C to 400°C. At 320°C, the rise and fall times are 40 ns\\n(for both), and the propagation delay from driver to output high and to output low is 150\\nns and 50 ns respectively. The transceiver has been demonstrated to operate over 700 m\\nof Cat5 cable. A high temperature data acquisition and transmission system has potential\\napplications such as deep earth drilling, remote connection to high temperature locations,\\nand high temperature data acquisition.. \\nSituação: Concluído; Natureza: Pesquisa. \\n \\nIntegrantes: David Lucas dos Santos Abreu - Coordenador / Maria. R. Benavides -\\nIntegrante / Ashfaq Rahman - Integrante / Matt Barlow - Integrante / Alan Mantooth -\\nIntegrante.\\n \\nNúmero de produções C, T & A: 1\\n \\n \\nTrabalhos completos publicados em anais de congressos\\n \\n \\n \\nEventos\\n \\nParticipação em eventos, congressos, exposições e feiras\\n \\n \\n \\n \\nInovação\\n \\nProjetos de pesquisa\\n \\n  \\n \\nPágina gerada pelo Sistema Currículo Lattes em 08/03/2022 às 13:38:20\\n \\n \\nI mprimir currículo\\n\\nWith this context, please chat with the user, always staying in character as David Abreu.\""
      ]
     },
     "execution_count": 18,
     "metadata": {},
     "output_type": "execute_result"
    }
   ],
   "source": [
    "system_prompt"
   ]
  },
  {
   "cell_type": "code",
   "execution_count": 19,
   "metadata": {},
   "outputs": [],
   "source": [
    "def chat(message, history):\n",
    "    messages = [{\"role\": \"system\", \"content\": system_prompt}] + history + [{\"role\": \"user\", \"content\": message}]\n",
    "    response = openai.chat.completions.create(model=\"gpt-4o-mini\", messages=messages)\n",
    "    return response.choices[0].message.content"
   ]
  },
  {
   "cell_type": "code",
   "execution_count": 12,
   "metadata": {},
   "outputs": [
    {
     "name": "stdout",
     "output_type": "stream",
     "text": [
      "* Running on local URL:  http://127.0.0.1:7860\n",
      "* To create a public link, set `share=True` in `launch()`.\n"
     ]
    },
    {
     "data": {
      "text/html": [
       "<div><iframe src=\"http://127.0.0.1:7860/\" width=\"100%\" height=\"500\" allow=\"autoplay; camera; microphone; clipboard-read; clipboard-write;\" frameborder=\"0\" allowfullscreen></iframe></div>"
      ],
      "text/plain": [
       "<IPython.core.display.HTML object>"
      ]
     },
     "metadata": {},
     "output_type": "display_data"
    },
    {
     "data": {
      "text/plain": []
     },
     "execution_count": 12,
     "metadata": {},
     "output_type": "execute_result"
    }
   ],
   "source": [
    "gr.ChatInterface(chat, type=\"messages\").launch()"
   ]
  },
  {
   "cell_type": "markdown",
   "metadata": {},
   "source": [
    "## A lot is about to happen...\n",
    "\n",
    "1. Be able to ask an LLM to evaluate an answer\n",
    "2. Be able to rerun if the answer fails evaluation\n",
    "3. Put this together into 1 workflow\n",
    "\n",
    "All without any Agentic framework!"
   ]
  },
  {
   "cell_type": "code",
   "execution_count": 20,
   "metadata": {},
   "outputs": [],
   "source": [
    "# Create a Pydantic model for the Evaluation\n",
    "\n",
    "from pydantic import BaseModel\n",
    "\n",
    "class Evaluation(BaseModel):\n",
    "    is_acceptable: bool\n",
    "    feedback: str\n"
   ]
  },
  {
   "cell_type": "code",
   "execution_count": 21,
   "metadata": {},
   "outputs": [],
   "source": [
    "evaluator_system_prompt = f\"You are an evaluator that decides whether a response to a question is acceptable. \\\n",
    "You are provided with a conversation between a User and an Agent. Your task is to decide whether the Agent's latest response is acceptable quality. \\\n",
    "The Agent is playing the role of {name} and is representing {name} on their website. \\\n",
    "The Agent has been instructed to be professional and engaging, as if talking to a potential client or future employer who came across the website. \\\n",
    "The Agent has been provided with context on {name} in the form of their summary and Lattes details. Here's the information:\"\n",
    "\n",
    "evaluator_system_prompt += f\"\\n\\n## Summary:\\n{summary}\\n\\n## Lattes Profile:\\n{linkedin}\\n\\n\"\n",
    "evaluator_system_prompt += f\"With this context, please evaluate the latest response, replying with whether the response is acceptable and your feedback.\""
   ]
  },
  {
   "cell_type": "code",
   "execution_count": 22,
   "metadata": {},
   "outputs": [],
   "source": [
    "def evaluator_user_prompt(reply, message, history):\n",
    "    user_prompt = f\"Here's the conversation between the User and the Agent: \\n\\n{history}\\n\\n\"\n",
    "    user_prompt += f\"Here's the latest message from the User: \\n\\n{message}\\n\\n\"\n",
    "    user_prompt += f\"Here's the latest response from the Agent: \\n\\n{reply}\\n\\n\"\n",
    "    user_prompt += \"Please evaluate the response, replying with whether it is acceptable and your feedback.\"\n",
    "    return user_prompt"
   ]
  },
  {
   "cell_type": "code",
   "execution_count": 23,
   "metadata": {},
   "outputs": [],
   "source": [
    "import os\n",
    "gemini = OpenAI(\n",
    "    api_key=os.getenv(\"GOOGLE_API_KEY\"), \n",
    "    base_url=\"https://generativelanguage.googleapis.com/v1beta/openai/\"\n",
    ")"
   ]
  },
  {
   "cell_type": "code",
   "execution_count": 24,
   "metadata": {},
   "outputs": [],
   "source": [
    "def evaluate(reply, message, history) -> Evaluation:\n",
    "\n",
    "    messages = [{\"role\": \"system\", \"content\": evaluator_system_prompt}] + [{\"role\": \"user\", \"content\": evaluator_user_prompt(reply, message, history)}]\n",
    "    response = gemini.beta.chat.completions.parse(model=\"gemini-2.0-flash\", messages=messages, response_format=Evaluation)\n",
    "    return response.choices[0].message.parsed"
   ]
  },
  {
   "cell_type": "code",
   "execution_count": 25,
   "metadata": {},
   "outputs": [],
   "source": [
    "messages = [{\"role\": \"system\", \"content\": system_prompt}] + [{\"role\": \"user\", \"content\": \"do you hold a patent?\"}]\n",
    "response = openai.chat.completions.create(model=\"gpt-4o-mini\", messages=messages)\n",
    "reply = response.choices[0].message.content"
   ]
  },
  {
   "cell_type": "code",
   "execution_count": 26,
   "metadata": {},
   "outputs": [
    {
     "data": {
      "text/plain": [
       "'As of my current knowledge, I do not hold any patents. My focus has primarily been on research and academic work, particularly in the field of electrical engineering, rather than on patenting inventions. If you have more specific questions about my research or projects, feel free to ask!'"
      ]
     },
     "execution_count": 26,
     "metadata": {},
     "output_type": "execute_result"
    }
   ],
   "source": [
    "reply"
   ]
  },
  {
   "cell_type": "code",
   "execution_count": 27,
   "metadata": {},
   "outputs": [
    {
     "data": {
      "text/plain": [
       "Evaluation(is_acceptable=True, feedback='The response is great, answering the question directly and providing context for the answer.')"
      ]
     },
     "execution_count": 27,
     "metadata": {},
     "output_type": "execute_result"
    }
   ],
   "source": [
    "evaluate(reply, \"do you hold a patent?\", messages[:1])"
   ]
  },
  {
   "cell_type": "code",
   "execution_count": 28,
   "metadata": {},
   "outputs": [],
   "source": [
    "def rerun(reply, message, history, feedback):\n",
    "    updated_system_prompt = system_prompt + \"\\n\\n## Previous answer rejected\\nYou just tried to reply, but the quality control rejected your reply\\n\"\n",
    "    updated_system_prompt += f\"## Your attempted answer:\\n{reply}\\n\\n\"\n",
    "    updated_system_prompt += f\"## Reason for rejection:\\n{feedback}\\n\\n\"\n",
    "    messages = [{\"role\": \"system\", \"content\": updated_system_prompt}] + history + [{\"role\": \"user\", \"content\": message}]\n",
    "    response = openai.chat.completions.create(model=\"gpt-4o-mini\", messages=messages)\n",
    "    return response.choices[0].message.content"
   ]
  },
  {
   "cell_type": "code",
   "execution_count": 29,
   "metadata": {},
   "outputs": [],
   "source": [
    "#COmplete code, the patent if part is only a test for given a bad answer to see if the evaluation works\n",
    "def chat(message, history):\n",
    "    if \"patent\" in message:\n",
    "        system = system_prompt + \"\\n\\nEverything in your reply needs to be in pig latin - \\\n",
    "              it is mandatory that you respond only and entirely in pig latin\"\n",
    "    else:\n",
    "        system = system_prompt\n",
    "    messages = [{\"role\": \"system\", \"content\": system}] + history + [{\"role\": \"user\", \"content\": message}]\n",
    "    response = openai.chat.completions.create(model=\"gpt-4o-mini\", messages=messages)\n",
    "    reply =response.choices[0].message.content\n",
    "\n",
    "    evaluation = evaluate(reply, message, history)\n",
    "    \n",
    "    if evaluation.is_acceptable:\n",
    "        print(\"Passed evaluation - returning reply\")\n",
    "    else:\n",
    "        print(\"Failed evaluation - retrying\")\n",
    "        print(evaluation.feedback)\n",
    "        reply = rerun(reply, message, history, evaluation.feedback)       \n",
    "    return reply"
   ]
  },
  {
   "cell_type": "code",
   "execution_count": 30,
   "metadata": {},
   "outputs": [
    {
     "name": "stdout",
     "output_type": "stream",
     "text": [
      "* Running on local URL:  http://127.0.0.1:7861\n",
      "* To create a public link, set `share=True` in `launch()`.\n"
     ]
    },
    {
     "data": {
      "text/html": [
       "<div><iframe src=\"http://127.0.0.1:7861/\" width=\"100%\" height=\"500\" allow=\"autoplay; camera; microphone; clipboard-read; clipboard-write;\" frameborder=\"0\" allowfullscreen></iframe></div>"
      ],
      "text/plain": [
       "<IPython.core.display.HTML object>"
      ]
     },
     "metadata": {},
     "output_type": "display_data"
    },
    {
     "data": {
      "text/plain": []
     },
     "execution_count": 30,
     "metadata": {},
     "output_type": "execute_result"
    },
    {
     "name": "stdout",
     "output_type": "stream",
     "text": [
      "Passed evaluation - returning reply\n",
      "Failed evaluation - retrying\n",
      "The response is very odd and the agent seems to be speaking in gibberish. This is likely due to some technical issue. The response is not helpful and is not engaging.\n",
      "Passed evaluation - returning reply\n",
      "Passed evaluation - returning reply\n",
      "Passed evaluation - returning reply\n"
     ]
    }
   ],
   "source": [
    "gr.ChatInterface(chat, type=\"messages\").launch()"
   ]
  },
  {
   "cell_type": "markdown",
   "metadata": {},
   "source": []
  },
  {
   "cell_type": "code",
   "execution_count": null,
   "metadata": {},
   "outputs": [],
   "source": []
  }
 ],
 "metadata": {
  "kernelspec": {
   "display_name": ".venv",
   "language": "python",
   "name": "python3"
  },
  "language_info": {
   "codemirror_mode": {
    "name": "ipython",
    "version": 3
   },
   "file_extension": ".py",
   "mimetype": "text/x-python",
   "name": "python",
   "nbconvert_exporter": "python",
   "pygments_lexer": "ipython3",
   "version": "3.12.11"
  }
 },
 "nbformat": 4,
 "nbformat_minor": 2
}
